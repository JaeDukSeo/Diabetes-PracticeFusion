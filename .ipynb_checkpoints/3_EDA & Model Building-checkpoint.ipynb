{
 "cells": [
  {
   "cell_type": "markdown",
   "metadata": {},
   "source": [
    "In this notebook, I am going to use data that were cleaned in previous notebooks to build a model for predicting diabetes patients. The datasets to be used contain informations about patients demography, physicians specialties, medical transcripts, and medications.\n",
    "\n",
    "The process consists in:\n",
    "1. Loading cleaned data and building one large dataset. containing all information\n",
    "2. Carrying an exploratory data analysis. I will generate visualization that make it easy to see correlations between independent and dependent variables. In this section, statistical tests will also be used to validate separability of the dependent variable among different groups of the independent variables\n",
    "3. Building a predictive model. Three different Gradient Boost ML algorithms will be tuned and to optimize the best parameters for final predictions\n",
    "4. Validating the models\n"
   ]
  },
  {
   "cell_type": "markdown",
   "metadata": {},
   "source": [
    "Import libraries"
   ]
  },
  {
   "cell_type": "code",
   "execution_count": 68,
   "metadata": {
    "collapsed": false
   },
   "outputs": [],
   "source": [
    "import pandas as pd\n",
    "import numpy as np\n",
    "import matplotlib.pyplot as plt\n",
    "\n",
    "from scipy import stats\n",
    "from sklearn.decomposition import PCA\n",
    "from pprint import pprint"
   ]
  },
  {
   "cell_type": "markdown",
   "metadata": {},
   "source": [
    "### 3. Import data"
   ]
  },
  {
   "cell_type": "code",
   "execution_count": 73,
   "metadata": {
    "collapsed": false
   },
   "outputs": [
    {
     "name": "stdout",
     "output_type": "stream",
     "text": [
      "size of dataframe: (9948, 2493)\n"
     ]
    }
   ],
   "source": [
    "patients = pd.read_csv('agg_data/patient.csv',index_col='PatientGuid').sort_index()\n",
    "diagnosis = pd.read_csv('agg_data/diagnosis.csv',index_col='PatientGuid').sort_index()\n",
    "physicisians = pd.read_csv('agg_data/physician_specialty.csv',index_col='PatientGuid').sort_index()\n",
    "transcripts = pd.read_csv('agg_data/transcript.csv',index_col='PatientGuid').sort_index()\n",
    "medications = pd.read_csv('agg_data/medication.csv',index_col='PatientGuid').sort_index()\n",
    "medications.columns = map(lambda x:'med_'+x,medications.columns)\n",
    "data = pd.concat([diagnosis,physicisians,transcripts,medications,patients],axis=1)\n",
    "data.fillna(0,inplace=True)\n",
    "#create artifical IDs. These will be useful later to keep track of training and validation sets\n",
    "data['ID'] = range(data.shape[0])\n",
    "print \"size of dataframe:\", data.shape"
   ]
  },
  {
   "cell_type": "markdown",
   "metadata": {},
   "source": [
    "Separate different independent variables by data types. Set numerical and categorical apart"
   ]
  },
  {
   "cell_type": "code",
   "execution_count": 74,
   "metadata": {
    "collapsed": false
   },
   "outputs": [],
   "source": [
    "target = 'DMIndicator'\n",
    "categorical = ['Gender','State']\n",
    "categorical += [x for x in data.columns if 'Icd' in x]\n",
    "categorical += [x for x in data.columns if 'PhySp' in x]\n",
    "numerical = data[[x for x in data.columns if (x not in categorical)]].columns.tolist()\n",
    "categorical +=['ID']"
   ]
  },
  {
   "cell_type": "markdown",
   "metadata": {},
   "source": [
    "### 2. Exploratory data analysis\n",
    "We start by creating functions to be used to quickly generate visualizations"
   ]
  },
  {
   "cell_type": "code",
   "execution_count": 75,
   "metadata": {
    "collapsed": false
   },
   "outputs": [],
   "source": [
    "def hist_numerical(df,col,nbins=10,target='DMIndicator',yscale='linear',normalize=False):\n",
    "    \"\"\"\n",
    "    This function generate histogram of numerical variables\n",
    "    df (pandas.dataframe): original dataset\n",
    "    col (str): independent variable to be on x-axis. It has to be a column of df\n",
    "    nbins (int): number of bins to be created\n",
    "    target (str): dependent variable. It has to be a column of df\n",
    "    yscale (str): use either linear for linear scale or log for log scale\n",
    "    normalize (bool): True - bars are normalized or - not otherwise\n",
    "    \"\"\"\n",
    "    x = df[col]\n",
    "    hy1,hx1 = np.histogram(df[col][df[target] == 1],bins=nbins,normed=normalize)\n",
    "    hy2,hx2 = np.histogram(df[col][df[target] == 0],bins=hx1,normed=normalize)\n",
    "    w = 0.4*(hx1[1] - hx1[0])\n",
    "    plt.figure(figsize=(5,3))\n",
    "    plt.bar(hx1[:-1],hy1,width=w,color='blue',edgecolor='none')\n",
    "    plt.bar(hx2[:-1]+w,hy2,width=w,color='green',edgecolor='none')\n",
    "    plt.xlabel(col)\n",
    "    plt.ylabel(\"Count\")\n",
    "    plt.yscale(yscale)\n",
    "    plt.legend([1,0])\n",
    "    print col, stats.ttest_ind(df[col][df[target] == 1],df[col][df[target] == 0])\n",
    "\n",
    "def bar_categorical(df,col,target='DMIndicator',yscale='linear',normalize=False):\n",
    "    \"\"\"\n",
    "    This function generate histogram of categorical variables\n",
    "    df (pandas.dataframe): original dataset\n",
    "    col (str): independent variable to be on x-axis. It has to be a column of df\n",
    "    target (str): dependent variable. It has to be a column of df\n",
    "    yscale (str): use either linear for linear scale or log for log scale\n",
    "    normalize (bool): True - bars are normalized or - not otherwise\n",
    "    \"\"\"\n",
    "    x = pd.concat([data[data[target] == 1][col].value_counts(),data[data[target] == 0][col].value_counts()],axis=1)\n",
    "    x.columns = [1,0]\n",
    "    w = 0.4*(x.index[1] - x.index[0])\n",
    "    plt.bar(x.index,x[1],color='b',width=w)\n",
    "    plt.bar(x.index+w,x[0],color='g',width=w)\n",
    "    plt.yscale(yscale)\n",
    "    plt.xlabel(col)\n",
    "    plt.ylabel('Count')\n",
    "    plt.legend([1,0])\n",
    "    return x\n",
    "\n",
    "\n",
    "def box_numerical(df,col,target='DMIndicator',ylim=[0,25]):\n",
    "    \"\"\"\n",
    "    This function generate boxplot of numerical variables\n",
    "    df (pandas.dataframe): original dataset\n",
    "    col (str): independent variable to be on x-axis. It has to be a column of df\n",
    "    target (str): dependent variable. It has to be a column of df\n",
    "    ylim (list, tuple): set y limits\n",
    "    \"\"\"\n",
    "    plt.figure(figsize=(5,3))\n",
    "    plt.boxplot([df[col][df[target] == 0],df[col][df[target] == 1]])\n",
    "    plt.xticks([1,2],[0,1])\n",
    "    plt.ylim(ylim)\n",
    "    plt.ylabel(col)\n",
    "    print col,stats.ttest_ind(df[col][df[target] == 1],df[col][df[target] == 0])"
   ]
  },
  {
   "cell_type": "markdown",
   "metadata": {},
   "source": [
    "Use above functions to visualize data and run statistical tests"
   ]
  },
  {
   "cell_type": "code",
   "execution_count": 46,
   "metadata": {
    "collapsed": false
   },
   "outputs": [
    {
     "name": "stdout",
     "output_type": "stream",
     "text": [
      "Age Ttest_indResult(statistic=27.859596396767721, pvalue=1.5320221627513069e-164)\n",
      "BMI_Max Ttest_indResult(statistic=20.782972073699653, pvalue=6.0134387449983657e-94)\n"
     ]
    },
    {
     "data": {
      "image/png": "[encoded data removed]",
      "text/plain": [
       "<matplotlib.figure.Figure at 0x10ad03990>"
      ]
     },
     "metadata": {},
     "output_type": "display_data"
    },
    {
     "data": {
      "image/png": "[encoded data removed]",
      "text/plain": [
       "<matplotlib.figure.Figure at 0x115140110>"
      ]
     },
     "metadata": {},
     "output_type": "display_data"
    }
   ],
   "source": [
    "n = 2\n",
    "#hist_numerical(data,numerical[n],nbins=20,yscale='linear',normalize=False)\n",
    "hist_numerical(data,'Age',nbins=20,yscale='linear',normalize=True)\n",
    "#hist_numerical(data,'BMI_Max',nbins=20,yscale='linear',normalize=True)\n",
    "box_numerical(data,'BMI_Max',ylim=[15,45])\n",
    "plt.show()\n",
    "#print numerical[n], n,'/',len(numerical)"
   ]
  },
  {
   "cell_type": "code",
   "execution_count": 77,
   "metadata": {
    "collapsed": false
   },
   "outputs": [
    {
     "data": {
      "image/png": "[encoded data removed]",
      "text/plain": [
       "<matplotlib.figure.Figure at 0x103421b50>"
      ]
     },
     "metadata": {},
     "output_type": "display_data"
    }
   ],
   "source": [
    "bar_categorical(data,'Gender',yscale='log')\n",
    "plt.show()"
   ]
  },
  {
   "cell_type": "code",
   "execution_count": 76,
   "metadata": {
    "collapsed": true
   },
   "outputs": [],
   "source": [
    "#after having a look at each variable, consider noting down those found not import according to the stat tests\n",
    "non_important = ['DiagnosisFreq','AcuteCount','Height_Max','Temperature_Max','Weight_Min','BMI_Min',\n",
    "                 'RespiratoryRate_Min','Temperature_Std','Height_Mean','Height_Change','RespiratoryRate_Change',\n",
    "                 'Temperature_Change']"
   ]
  },
  {
   "cell_type": "markdown",
   "metadata": {},
   "source": [
    "### 3. Modeling\n",
    "\n",
    "We will first prepare different sets of labels as we optimize and cross-validate proposed model. Then, we will split the data into training and validation sets. "
   ]
  },
  {
   "cell_type": "code",
   "execution_count": 79,
   "metadata": {
    "collapsed": true
   },
   "outputs": [],
   "source": [
    "# import scikit learn libraries\n",
    "from sklearn import cross_validation, metrics   #model optimization and valuation tools\n",
    "from sklearn.grid_search import GridSearchCV   #Perforing grid search\n",
    "from sklearn.model_selection import train_test_split\n",
    "from sklearn.ensemble import GradientBoostingClassifier"
   ]
  },
  {
   "cell_type": "code",
   "execution_count": 81,
   "metadata": {
    "collapsed": false
   },
   "outputs": [],
   "source": [
    "# create functions to be used to tune parameters\n",
    "\n",
    "def modelfit(alg,dtrain,predictors,target,scoring_method,performCV=True,printFeatureImportance=True,cv_folds=5):\n",
    "    \"\"\"\n",
    "    This functions train the model given as 'alg' by performing cross-validation. It works on both regression and classification\n",
    "    alg: sklearn model\n",
    "    dtrain: pandas.DataFrame, training set\n",
    "    predictors: list, labels to be used in the model training process. They should be in the column names of dtrain\n",
    "    target: str, target variable\n",
    "    scoring_method: str, method to be used by the cross-validation to valuate the model\n",
    "    performCV: bool, perform Cv or not\n",
    "    printFeatureImportance: bool, plot histogram of features importance or not\n",
    "    cv_folds: int, degree of cross-validation\n",
    "    \"\"\"\n",
    "    # train the algorithm on data\n",
    "    alg.fit(dtrain[predictors],dtrain[target])\n",
    "    #predict on train set:\n",
    "    dtrain_predictions = alg.predict(dtrain[predictors])\n",
    "    if scoring_method == 'roc_auc':\n",
    "        dtrain_predprob = alg.predict_proba(dtrain[predictors])[:,1]\n",
    "    \n",
    "    #perform cross-validation\n",
    "    if performCV:\n",
    "        cv_score = cross_validation.cross_val_score(alg,dtrain[predictors],dtrain[target],cv=cv_folds,scoring=scoring_method)\n",
    "        #print model report\n",
    "        print \"\\nModel report:\"\n",
    "        if scoring_method == 'roc_auc':\n",
    "            print \"Accuracy:\",metrics.accuracy_score(dtrain[target].values,dtrain_predictions)\n",
    "            print \"AUC Score (Train):\",metrics.roc_auc_score(dtrain[target], dtrain_predprob)\n",
    "        if (scoring_method == 'mean_squared_error'):\n",
    "            print \"Accuracy:\",metrics.mean_squared_error(dtrain[target].values,dtrain_predictions)\n",
    "    if performCV:\n",
    "        print \"CV Score - Mean : %.7g | Std : %.7g | Min : %.7g | Max : %.7g\" % (np.mean(cv_score),np.std(cv_score),np.min(cv_score),np.max(cv_score))\n",
    "    #print feature importance\n",
    "    if printFeatureImportance:\n",
    "        if dir(alg)[0] == '_Booster': #runs only if alg is xgboost\n",
    "            feat_imp = pd.Series(alg.booster().get_fscore()).sort_values(ascending=False)\n",
    "        else:\n",
    "            feat_imp = pd.Series(alg.feature_importances_,predictors).sort_values(ascending=False)\n",
    "        feat_imp.plot(kind='bar',title='Feature Importances')\n",
    "        plt.ylabel('Feature Importe Score')\n",
    "        plt.show()\n",
    "    return alg\n",
    "\n",
    "def optimize_num_trees(alg,param_test,scoring_method,train,predictors,target):\n",
    "    \"\"\"\n",
    "    This functions is used to tune paremeters of a predictive algorithm\n",
    "    alg: sklearn model,\n",
    "    param_test: dict, parameters to be tuned\n",
    "    scoring_method: str, method to be used by the cross-validation to valuate the model\n",
    "    train: pandas.DataFrame, training data\n",
    "    predictors: list, labels to be used in the model training process. They should be in the column names of dtrain\n",
    "    target: str, target variable\n",
    "    \"\"\"\n",
    "    gsearch = GridSearchCV(estimator=alg, param_grid = param_test, scoring=scoring_method,n_jobs=2,iid=False,cv=5)\n",
    "    gsearch.fit(train[predictors],train[target])\n",
    "    return gsearch\n"
   ]
  },
  {
   "cell_type": "code",
   "execution_count": 50,
   "metadata": {
    "collapsed": false
   },
   "outputs": [
    {
     "data": {
      "text/plain": [
       "'ID'"
      ]
     },
     "execution_count": 50,
     "metadata": {},
     "output_type": "execute_result"
    }
   ],
   "source": [
    "#create different sets of labels\n",
    "labels1 = []\n",
    "labels2 = numerical[:]\n",
    "labels2.pop(labels2.index('DMIndicator'))\n",
    "labels3 = filter(lambda x: not x.startswith('med'),list(set(numerical).difference(set(non_important))))\n",
    "labels3.pop(labels3.index('DMIndicator'))\n",
    "labels4 = categorical[:]\n",
    "labels5 = ['ID','Icd9_390-459', 'State', 'Icd9_240-279', 'PhySp_Internal_Medicine', 'PhySp_Family_Practice', 'PhySp_General_Practice', 'Icd9_780-799', 'PhySp_Unknown', 'Icd9_710-739', 'Icd9_E-V', 'Gender', 'PhySp_Geriatric_Medicine', 'Icd9_290-319', 'PhySp_Podiatry', 'PhySp_Cardiovascular_Disease', 'PhySp_Pulmonary_Disease', 'Icd9_580-629', 'PhySp_Endocrinology__Diabetes__Metabolism', 'PhySp_Adolescent_Medicine', 'PhySp_Nephrology', 'Icd9_280-289', 'Icd9_460-519', 'Icd9_320-359', 'Icd9_680-709', 'Icd9_520-579']\n",
    "labels6 = filter(lambda x: x.startswith('med'),data.columns)+['ID']\n",
    "\n",
    "#split data into training and validation sets\n",
    "_Xtrain,_Xvalid,_Ytrain,_Yvalid = train_test_split(data[labels5],data[target],test_size=1/4.,random_state=123)\n",
    "_train_ids = _Xtrain.ID.tolist()\n",
    "_valid_ids = _Xvalid.ID.tolist()\n",
    "\n",
    "labels2.pop(labels2.index('ID'))\n",
    "labels3.pop(labels3.index('ID'))\n",
    "labels4.pop(labels4.index('ID'))\n",
    "labels5.pop(labels5.index('ID'))\n",
    "labels6.pop(labels6.index('ID'))"
   ]
  },
  {
   "cell_type": "markdown",
   "metadata": {},
   "source": [
    "The next block is for optimizing parameters to tune the model"
   ]
  },
  {
   "cell_type": "code",
   "execution_count": 52,
   "metadata": {
    "collapsed": false
   },
   "outputs": [
    {
     "name": "stdout",
     "output_type": "stream",
     "text": [
      "Best Parameters:\n",
      "\t{'n_estimators': 150}\n",
      "Best Score:\n",
      "\t0.996525102995\n",
      "Grid Scores:\n",
      "[mean: 0.98437, std: 0.00278, params: {'n_estimators': 10},\n",
      " mean: 0.98600, std: 0.00272, params: {'n_estimators': 30},\n",
      " mean: 0.98942, std: 0.00190, params: {'n_estimators': 50},\n",
      " mean: 0.99206, std: 0.00137, params: {'n_estimators': 70},\n",
      " mean: 0.99405, std: 0.00123, params: {'n_estimators': 90},\n",
      " mean: 0.99525, std: 0.00085, params: {'n_estimators': 110},\n",
      " mean: 0.99605, std: 0.00079, params: {'n_estimators': 130},\n",
      " mean: 0.99653, std: 0.00074, params: {'n_estimators': 150}]\n",
      "\n",
      "Model report:\n",
      "Accuracy: 0.989411607023\n",
      "AUC Score (Train): 0.996495576497\n",
      "CV Score - Mean : 0.9965251 | Std : 0.0007406426 | Min : 0.9952455 | Max : 0.9974395\n",
      "ROC AUC: 0.993887530562\n"
     ]
    }
   ],
   "source": [
    "gbm1 = GradientBoostingClassifier(\n",
    "    learning_rate = 0.1,\n",
    "    min_samples_split=2,\n",
    "    max_depth=2,\n",
    "    max_features='auto',\n",
    "    subsample=0.8,\n",
    "    random_state = 10\n",
    ")\n",
    "train = _Xtrain.copy()\n",
    "train['DMIndicator'] = _Ytrain\n",
    "param_test = {'n_estimators':range(250,501,20)} #labels5->range(250,501,20), labels6->range(10,151,20)\n",
    "predictors = labels5\n",
    "#train[predictors] = standardize(train[predictors])\n",
    "\n",
    "# optimize number of trees\n",
    "gs_cls = optimize_num_trees(gbm1,param_test,'roc_auc',train,predictors,target)\n",
    "print \"Best Parameters:\\n\\t\",gs_cls.best_params_\n",
    "print \"Best Score:\\n\\t\",gs_cls.best_score_\n",
    "print \"Grid Scores:\"\n",
    "pprint(gs_cls.grid_scores_)\n",
    "\n",
    "# cross validate the best model with optimized number of estimators\n",
    "alg = modelfit(gs_cls.best_estimator_,train,predictors,target,'roc_auc',printFeatureImportance=False)\n",
    "\n",
    "# testing on a different set\n",
    "ypred = gs_cls.best_estimator_.predict(_Xvalid[predictors])\n",
    "print \"ROC AUC:\", metrics.roc_auc_score(ypred,_Yvalid)"
   ]
  },
  {
   "cell_type": "code",
   "execution_count": 29,
   "metadata": {
    "collapsed": false
   },
   "outputs": [
    {
     "data": {
      "text/plain": [
       "(9948, 2366)"
      ]
     },
     "execution_count": 29,
     "metadata": {},
     "output_type": "execute_result"
    }
   ],
   "source": [
    "data[labels6].shape"
   ]
  },
  {
   "cell_type": "markdown",
   "metadata": {},
   "source": [
    "Here, we use optimized parameters to make final predictions"
   ]
  },
  {
   "cell_type": "code",
   "execution_count": 82,
   "metadata": {
    "collapsed": false
   },
   "outputs": [
    {
     "name": "stdout",
     "output_type": "stream",
     "text": [
      "Training models\n",
      "---------------\n",
      "-- Numerical variables --\n",
      "\n",
      "Model report:\n",
      "Accuracy: 0.826028682482\n",
      "AUC Score (Train): 0.813151476673\n",
      "CV Score - Mean : 0.776137 | Std : 0.01331027 | Min : 0.7525612 | Max : 0.7902491\n",
      "-- Categorical variables --\n",
      "\n",
      "Model report:\n",
      "Accuracy: 0.834740651387\n",
      "AUC Score (Train): 0.82757019937\n",
      "CV Score - Mean : 0.7743555 | Std : 0.008472267 | Min : 0.7636612 | Max : 0.7896208\n",
      "-- Medication Names --\n",
      "\n",
      "Model report:\n",
      "Accuracy: 0.989411607023\n",
      "AUC Score (Train): 0.992000970833\n",
      "CV Score - Mean : 0.9920015 | Std : 0.00183973 | Min : 0.9899952 | Max : 0.9951158\n"
     ]
    }
   ],
   "source": [
    "# prep training and validation\n",
    "train = data[data.ID.isin(_train_ids)]\n",
    "valid = data[data.ID.isin(_valid_ids)]\n",
    "\n",
    "# set optimized parameters\n",
    "gbm_num = GradientBoostingClassifier(n_estimators = 90,learning_rate = 0.1,\n",
    "                                     min_samples_split=2,max_depth=2,max_features='auto',\n",
    "                                     subsample=0.8,random_state = 10)\n",
    "gbm_cat = GradientBoostingClassifier(n_estimators = 350,learning_rate = 0.1,\n",
    "                                     min_samples_split=2,max_depth=2,max_features='auto',\n",
    "                                     subsample=0.8,random_state = 10)\n",
    "gbm_med = GradientBoostingClassifier(n_estimators= 70, learning_rate=0.1,\n",
    "                                     min_samples_split=2, max_depth=2, max_features='auto',\n",
    "                                     subsample=0.8,random_state = 10)\n",
    "\n",
    "#train the model\n",
    "print \"Training models\"\n",
    "print \"---------------\"\n",
    "print \"-- Numerical variables --\"\n",
    "alg_num = modelfit(gbm_num,train,labels3,target,'roc_auc',printFeatureImportance=False)\n",
    "print \"-- Categorical variables --\"\n",
    "alg_cat = modelfit(gbm_cat,train,labels5,target,'roc_auc',printFeatureImportance=False)\n",
    "print \"-- Medication Names --\"\n",
    "alg_med = modelfit(gbm_med,train,labels6,target,'roc_auc',printFeatureImportance=False)"
   ]
  },
  {
   "cell_type": "code",
   "execution_count": 83,
   "metadata": {
    "collapsed": false
   },
   "outputs": [
    {
     "name": "stdout",
     "output_type": "stream",
     "text": [
      "====== Model validation ======\n",
      "Summary results\n",
      "ROC AUC - numerical variables model: 0.706580465255\n",
      "ROC AUC - categorical variables model: 0.680448854745\n",
      "ROC AUC - num & cat ensemble model: 0.753764510779\n",
      "ROC AUC - medication names model: 0.993887530562\n"
     ]
    }
   ],
   "source": [
    "#make predictions\n",
    "ypred_num = alg_num.predict(valid[labels3])\n",
    "ypred_cat = alg_cat.predict(valid[labels5])\n",
    "ypred_med = alg_med.predict(valid[labels6])\n",
    "ypredprob_num = alg_num.predict_proba(valid[labels3])[:,1]\n",
    "ypredprob_cat = alg_cat.predict_proba(valid[labels5])[:,1]\n",
    "ypredprob_med = alg_med.predict_proba(valid[labels6])[:,1]\n",
    "\n",
    "#create an ensemble of models based of categorical and numerical variables\n",
    "ypred_combo = ((0.8*ypredprob_num + 0.2*ypredprob_cat)>0.5)*1\n",
    "\n",
    "print \"====== Model validation ======\"\n",
    "print \"Summary results\"\n",
    "print \"ROC AUC - numerical variables model:\", metrics.roc_auc_score(ypred_num,valid[target])\n",
    "print \"ROC AUC - categorical variables model:\", metrics.roc_auc_score(ypred_cat,valid[target])\n",
    "print \"ROC AUC - num & cat ensemble model:\", metrics.roc_auc_score(ypred_combo,valid[target])\n",
    "print \"ROC AUC - medication names model:\", metrics.roc_auc_score(ypred_med,valid[target])\n"
   ]
  },
  {
   "cell_type": "code",
   "execution_count": null,
   "metadata": {
    "collapsed": true
   },
   "outputs": [],
   "source": []
  }
 ],
 "metadata": {
  "kernelspec": {
   "display_name": "Python 2",
   "language": "python",
   "name": "python2"
  },
  "language_info": {
   "codemirror_mode": {
    "name": "ipython",
    "version": 2
   },
   "file_extension": ".py",
   "mimetype": "text/x-python",
   "name": "python",
   "nbconvert_exporter": "python",
   "pygments_lexer": "ipython2",
   "version": "2.7.10"
  }
 },
 "nbformat": 4,
 "nbformat_minor": 0
}
