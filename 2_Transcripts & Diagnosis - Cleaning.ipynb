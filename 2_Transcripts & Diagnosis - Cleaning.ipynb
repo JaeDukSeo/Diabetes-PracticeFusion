{
 "cells": [
  {
   "cell_type": "markdown",
   "metadata": {},
   "source": [
    "This notebook is about cleaning Transcripts and diagnosis datasets to predict diabetes patients"
   ]
  },
  {
   "cell_type": "code",
   "execution_count": 37,
   "metadata": {
    "collapsed": false
   },
   "outputs": [],
   "source": [
    "import pandas as pd\n",
    "import numpy as np\n",
    "import matplotlib.pyplot as plt\n",
    "\n",
    "import glob, os, re, random\n",
    "\n",
    "from nltk.stem import PorterStemmer, WordNetLemmatizer, LancasterStemmer\n",
    "from itertools import groupby\n",
    "from operator import itemgetter\n",
    "from datetime import datetime as dt\n",
    "\n",
    "from fuzzywuzzy import  fuzz, process\n",
    "\n",
    "from sklearn.preprocessing import Imputer, LabelEncoder"
   ]
  },
  {
   "cell_type": "code",
   "execution_count": 38,
   "metadata": {
    "collapsed": true
   },
   "outputs": [],
   "source": [
    "imputers = {}\n",
    "labelEncoders = {}"
   ]
  },
  {
   "cell_type": "code",
   "execution_count": 39,
   "metadata": {
    "collapsed": false
   },
   "outputs": [
    {
     "name": "stdout",
     "output_type": "stream",
     "text": [
      "SyncCondition\n",
      "SyncSmokingStatus\n",
      "SyncAllergy\n",
      "SyncDiagnosis\n",
      "SyncImmunization\n",
      "SyncLabObservation\n",
      "SyncLabPanel\n",
      "SyncLabResult\n",
      "SyncMedication\n",
      "SyncPatient\n",
      "SyncPatientCondition\n",
      "SyncPatientSmokingStatus\n",
      "SyncPrescription\n",
      "SyncTranscript\n",
      "SyncTranscriptAllergy\n",
      "SyncTranscriptDiagnosis\n",
      "SyncTranscriptMedication\n"
     ]
    }
   ],
   "source": [
    "filenames = glob.glob('data/trainingSet/*.csv')\n",
    "data = {'trainingSet':{},'testSet':{}}\n",
    "for filename in filenames:\n",
    "    k = os.path.basename(filename)[:-4].replace('training_','')\n",
    "    data['trainingSet'][k] = pd.read_csv(filename)\n",
    "    data['testSet'][k] = pd.read_csv(filename.replace('training','test'))\n",
    "    print k"
   ]
  },
  {
   "cell_type": "code",
   "execution_count": 40,
   "metadata": {
    "collapsed": false
   },
   "outputs": [],
   "source": [
    "df0 = data['trainingSet']['SyncPatient'].copy()\n",
    "df1 = data['trainingSet']['SyncDiagnosis'].copy()\n",
    "df2 = data['trainingSet']['SyncTranscriptDiagnosis'].copy()\n",
    "df3 = data['trainingSet']['SyncTranscript'].copy()"
   ]
  },
  {
   "cell_type": "markdown",
   "metadata": {},
   "source": [
    "## Patient"
   ]
  },
  {
   "cell_type": "code",
   "execution_count": 41,
   "metadata": {
    "collapsed": false
   },
   "outputs": [
    {
     "name": "stderr",
     "output_type": "stream",
     "text": [
      "/Library/Frameworks/Python.framework/Versions/2.7/lib/python2.7/site-packages/ipykernel/__main__.py:7: SettingWithCopyWarning: \n",
      "A value is trying to be set on a copy of a slice from a DataFrame.\n",
      "Try using .loc[row_indexer,col_indexer] = value instead\n",
      "\n",
      "See the caveats in the documentation: http://pandas.pydata.org/pandas-docs/stable/indexing.html#indexing-view-versus-copy\n",
      "/Library/Frameworks/Python.framework/Versions/2.7/lib/python2.7/site-packages/ipykernel/__main__.py:8: SettingWithCopyWarning: \n",
      "A value is trying to be set on a copy of a slice from a DataFrame.\n",
      "Try using .loc[row_indexer,col_indexer] = value instead\n",
      "\n",
      "See the caveats in the documentation: http://pandas.pydata.org/pandas-docs/stable/indexing.html#indexing-view-versus-copy\n"
     ]
    }
   ],
   "source": [
    "# calculate patient age\n",
    "df0['Age'] = 2012 - df0['YearOfBirth']\n",
    "patient_agg = df0[['Age','Gender','State','DMIndicator']]\n",
    "patient_agg.index = df0.PatientGuid\n",
    "\n",
    "lePatient = LabelEncoder()\n",
    "patient_agg['State'] = lePatient.fit_transform(patient_agg['State'] )\n",
    "patient_agg['Gender'] = lePatient.fit_transform(patient_agg['Gender'] )\n",
    "labelEncoders['lePatient'] = lePatient\n",
    "\n",
    "patient_agg.to_csv('agg_data/patient.csv')"
   ]
  },
  {
   "cell_type": "markdown",
   "metadata": {},
   "source": [
    "## Transcript\n",
    "#### Transcript - Outliers"
   ]
  },
  {
   "cell_type": "code",
   "execution_count": 42,
   "metadata": {
    "collapsed": true
   },
   "outputs": [],
   "source": [
    "def check_outliers(df,col,scaley=False):\n",
    "    plt.figure(figsize=(4,3))\n",
    "    df[col].hist()\n",
    "    if scaley:\n",
    "        plt.yscale('log')\n",
    "    plt.title(col)\n",
    "    plt.show()\n",
    "    f1 = calculate_fences(df[col],1)\n",
    "    f2 = calculate_fences(df[col],2)\n",
    "    print \"strategy1:\\tq1:\",f1[0],\"q2:\",f1[1],\"q3:\",f1[2],\"range:\",(f1[3],f1[4])\n",
    "    print \"strategy2:\\tstd:\",f2[0],\"mean:\",f2[1],\"range:\",(f2[2],f2[3])\n",
    "    \n",
    "def calculate_fences(x,strategy):\n",
    "    if strategy == 1:\n",
    "        q1 = np.percentile(x.dropna(),25)\n",
    "        q2 = np.percentile(x.dropna(),50)\n",
    "        q3 = np.percentile(x.dropna(),75)\n",
    "        iq = q3 - q1\n",
    "        lbound = q1 - 1.5*iq\n",
    "        ubound = q3 + 1.5*iq\n",
    "        return q1,q2,q3,lbound,ubound\n",
    "    if strategy == 2:\n",
    "        std = round(x.dropna().std(),2)\n",
    "        mean = round(x.dropna().mean(),2)\n",
    "        lbound = round(mean-3*std,2)\n",
    "        ubound = round(mean+3*std,2)\n",
    "        return std,mean,lbound,ubound\n",
    "    \n",
    "def drop_outliers(x,lbound=None,ubound=None,val=None):\n",
    "    if (lbound == None) or (ubound == None) or (val == None):\n",
    "        r = calculate_fences(x,1)\n",
    "        val,lbound,ubound = r[1],r[3],r[4]\n",
    "    i = x[(x<lbound) | (x>ubound)].index\n",
    "    x.loc[i] = val\n",
    "    return x"
   ]
  },
  {
   "cell_type": "code",
   "execution_count": 43,
   "metadata": {
    "collapsed": true
   },
   "outputs": [],
   "source": [
    "df3 = data['trainingSet']['SyncTranscript'].copy()\n",
    "#Features with more than 50% missing values to be dropped: HeartRate.\n",
    "df3.drop(['HeartRate',],axis=1,inplace=True)"
   ]
  },
  {
   "cell_type": "code",
   "execution_count": 44,
   "metadata": {
    "collapsed": false
   },
   "outputs": [
    {
     "data": {
      "image/png": "[encoded data removed]",
      "text/plain": [
       "<matplotlib.figure.Figure at 0x118eda650>"
      ]
     },
     "metadata": {},
     "output_type": "display_data"
    },
    {
     "name": "stdout",
     "output_type": "stream",
     "text": [
      "strategy1:\tq1: 0.0 q2: 0.0 q3: 27.833 range: (-41.749500000000005, 69.58250000000001)\n",
      "strategy2:\tstd: 1581.65 mean: 21.18 range: (-4723.77, 4766.13)\n"
     ]
    }
   ],
   "source": [
    "check_outliers(df3,'BMI',True)"
   ]
  },
  {
   "cell_type": "code",
   "execution_count": 45,
   "metadata": {
    "collapsed": false
   },
   "outputs": [],
   "source": [
    "df3['Height'] = drop_outliers(df3.Height.copy())\n",
    "df3['Weight'] = drop_outliers(df3.Weight.copy())\n",
    "df3['BMI'] = drop_outliers(df3.BMI.copy())\n",
    "df3['DiastolicBP'] = drop_outliers(df3.DiastolicBP.copy())"
   ]
  },
  {
   "cell_type": "markdown",
   "metadata": {},
   "source": [
    "#### Transcripts - Aggregation"
   ]
  },
  {
   "cell_type": "code",
   "execution_count": 46,
   "metadata": {
    "collapsed": false
   },
   "outputs": [
    {
     "data": {
      "text/html": [
       "<div>\n",
       "<table border=\"1\" class=\"dataframe\">\n",
       "  <thead>\n",
       "    <tr style=\"text-align: right;\">\n",
       "      <th></th>\n",
       "      <th>VisitYear</th>\n",
       "      <th>Height</th>\n",
       "      <th>Weight</th>\n",
       "      <th>BMI</th>\n",
       "      <th>SystolicBP</th>\n",
       "      <th>DiastolicBP</th>\n",
       "      <th>RespiratoryRate</th>\n",
       "      <th>Temperature</th>\n",
       "    </tr>\n",
       "  </thead>\n",
       "  <tbody>\n",
       "    <tr>\n",
       "      <th>count</th>\n",
       "      <td>131031.000000</td>\n",
       "      <td>60048.000000</td>\n",
       "      <td>131031.000000</td>\n",
       "      <td>131031.000000</td>\n",
       "      <td>85580.000000</td>\n",
       "      <td>85580.000000</td>\n",
       "      <td>51192.000000</td>\n",
       "      <td>50034.000000</td>\n",
       "    </tr>\n",
       "    <tr>\n",
       "      <th>mean</th>\n",
       "      <td>1949.763529</td>\n",
       "      <td>65.896726</td>\n",
       "      <td>102.783388</td>\n",
       "      <td>13.268318</td>\n",
       "      <td>126.728523</td>\n",
       "      <td>76.451297</td>\n",
       "      <td>16.915026</td>\n",
       "      <td>97.765331</td>\n",
       "    </tr>\n",
       "    <tr>\n",
       "      <th>std</th>\n",
       "      <td>343.929865</td>\n",
       "      <td>4.057431</td>\n",
       "      <td>96.462183</td>\n",
       "      <td>15.271590</td>\n",
       "      <td>17.527290</td>\n",
       "      <td>9.669236</td>\n",
       "      <td>3.086804</td>\n",
       "      <td>1.633112</td>\n",
       "    </tr>\n",
       "    <tr>\n",
       "      <th>min</th>\n",
       "      <td>0.000000</td>\n",
       "      <td>54.000000</td>\n",
       "      <td>0.000000</td>\n",
       "      <td>0.000000</td>\n",
       "      <td>10.000000</td>\n",
       "      <td>52.000000</td>\n",
       "      <td>1.000000</td>\n",
       "      <td>36.222000</td>\n",
       "    </tr>\n",
       "    <tr>\n",
       "      <th>25%</th>\n",
       "      <td>2010.000000</td>\n",
       "      <td>NaN</td>\n",
       "      <td>0.000000</td>\n",
       "      <td>0.000000</td>\n",
       "      <td>NaN</td>\n",
       "      <td>NaN</td>\n",
       "      <td>NaN</td>\n",
       "      <td>NaN</td>\n",
       "    </tr>\n",
       "    <tr>\n",
       "      <th>50%</th>\n",
       "      <td>2010.000000</td>\n",
       "      <td>NaN</td>\n",
       "      <td>129.000000</td>\n",
       "      <td>0.000000</td>\n",
       "      <td>NaN</td>\n",
       "      <td>NaN</td>\n",
       "      <td>NaN</td>\n",
       "      <td>NaN</td>\n",
       "    </tr>\n",
       "    <tr>\n",
       "      <th>75%</th>\n",
       "      <td>2011.000000</td>\n",
       "      <td>NaN</td>\n",
       "      <td>185.000000</td>\n",
       "      <td>27.798000</td>\n",
       "      <td>NaN</td>\n",
       "      <td>NaN</td>\n",
       "      <td>NaN</td>\n",
       "      <td>NaN</td>\n",
       "    </tr>\n",
       "    <tr>\n",
       "      <th>max</th>\n",
       "      <td>2012.000000</td>\n",
       "      <td>78.000000</td>\n",
       "      <td>451.948000</td>\n",
       "      <td>69.207000</td>\n",
       "      <td>270.000000</td>\n",
       "      <td>100.000000</td>\n",
       "      <td>80.000000</td>\n",
       "      <td>181.000000</td>\n",
       "    </tr>\n",
       "  </tbody>\n",
       "</table>\n",
       "</div>"
      ],
      "text/plain": [
       "           VisitYear        Height         Weight            BMI  \\\n",
       "count  131031.000000  60048.000000  131031.000000  131031.000000   \n",
       "mean     1949.763529     65.896726     102.783388      13.268318   \n",
       "std       343.929865      4.057431      96.462183      15.271590   \n",
       "min         0.000000     54.000000       0.000000       0.000000   \n",
       "25%      2010.000000           NaN       0.000000       0.000000   \n",
       "50%      2010.000000           NaN     129.000000       0.000000   \n",
       "75%      2011.000000           NaN     185.000000      27.798000   \n",
       "max      2012.000000     78.000000     451.948000      69.207000   \n",
       "\n",
       "         SystolicBP   DiastolicBP  RespiratoryRate   Temperature  \n",
       "count  85580.000000  85580.000000     51192.000000  50034.000000  \n",
       "mean     126.728523     76.451297        16.915026     97.765331  \n",
       "std       17.527290      9.669236         3.086804      1.633112  \n",
       "min       10.000000     52.000000         1.000000     36.222000  \n",
       "25%             NaN           NaN              NaN           NaN  \n",
       "50%             NaN           NaN              NaN           NaN  \n",
       "75%             NaN           NaN              NaN           NaN  \n",
       "max      270.000000    100.000000        80.000000    181.000000  "
      ]
     },
     "execution_count": 46,
     "metadata": {},
     "output_type": "execute_result"
    }
   ],
   "source": [
    "df3.describe()"
   ]
  },
  {
   "cell_type": "markdown",
   "metadata": {},
   "source": [
    "About 50% of BMI and Weight are reported to be zero. This is unusual but let's leave it as it is for now"
   ]
  },
  {
   "cell_type": "markdown",
   "metadata": {},
   "source": [
    "Aggregate physician speciality as a sparse matrix whose columns are each speciality and each row value represents how many times a patient visited that specialist"
   ]
  },
  {
   "cell_type": "code",
   "execution_count": 47,
   "metadata": {
    "collapsed": false
   },
   "outputs": [],
   "source": [
    "physician_specialty = df3[['PatientGuid','PhysicianSpecialty']].sort_values('PatientGuid').copy()\n",
    "physician_specialty.fillna('x Unknown or N/A',inplace=True)\n",
    "physician_specialty.replace(to_replace=['Psychiatry - Child & Adolescent','Addiction Medicine (Psychiatry)',\n",
    "                        'Developmental \\xe2\\x80\\x93 Behavioral Pediatrics','Physical Medicine & Rehabilitation',\n",
    "                        'Physical Therapy','x Academic (I am a student)','x Unknown or N/A'],\n",
    "            value=['Psychiatry','Addiction Psychiatry','Developmental Behavioral Pediatrics',\n",
    "                   'Physical Medecine', 'Physical Medecine', 'Academic', 'Unknown'],\n",
    "            inplace=True)\n",
    "physician_specialty.index = physician_specialty.PatientGuid\n",
    "physician_specialty.drop('PatientGuid',inplace=True,axis=1)\n",
    "physician_specialty = pd.get_dummies(pd.DataFrame(physician_specialty.PhysicianSpecialty),prefix='PhySp')\n",
    "\n",
    "physician_specialty.columns = map(lambda x:x.replace(' & ',' ',).replace(' ','_').replace(';','_'),physician_specialty.columns)\n",
    "physician_specialty = physician_specialty.reset_index().groupby('PatientGuid').sum()"
   ]
  },
  {
   "cell_type": "markdown",
   "metadata": {},
   "source": [
    "Let's fill missing values starting with visit year. \n",
    "There are fours years 2009,2010,2011,2012 all with a probability distribution. We will fill missing visitYear by randomly choosing a year accordin to its probability"
   ]
  },
  {
   "cell_type": "code",
   "execution_count": 48,
   "metadata": {
    "collapsed": false
   },
   "outputs": [],
   "source": [
    "s1 = df3[df3.VisitYear!=0].VisitYear.value_counts(normalize=1).sort_index()\n",
    "s2 = df3[df3.VisitYear == 0].index\n",
    "s3 = np.random.choice(a=s1.index.tolist(),p=s1.values.tolist(),size=s2.shape[0])\n",
    "df3.VisitYear.replace(to_replace=0,value=dict(zip(s2,s3)),inplace=True)\n"
   ]
  },
  {
   "cell_type": "markdown",
   "metadata": {},
   "source": [
    "Use Imputer from sklearn to impute missing values with average"
   ]
  },
  {
   "cell_type": "code",
   "execution_count": 49,
   "metadata": {
    "collapsed": false
   },
   "outputs": [],
   "source": [
    "#copy numeric features from df3\n",
    "df3_numeric_vars = [u'VisitYear', u'Height', u'Weight', u'BMI', u'SystolicBP', u'DiastolicBP', \n",
    "                    u'RespiratoryRate', u'Temperature']\n",
    "\n",
    "imputerTranscript = Imputer(strategy='mean')\n",
    "imputerTranscript.fit(df3[df3_numeric_vars])\n",
    "imputers['imputerTranscript'] = imputerTranscript\n",
    "df3[df3_numeric_vars] = imputerTranscript.transform(df3[df3_numeric_vars])\n"
   ]
  },
  {
   "cell_type": "markdown",
   "metadata": {},
   "source": [
    "Aggregata data by min, max, std and mean"
   ]
  },
  {
   "cell_type": "code",
   "execution_count": 50,
   "metadata": {
    "collapsed": true
   },
   "outputs": [],
   "source": [
    "tdf = df3[[u'PatientGuid', u'Height', u'Weight', u'BMI', u'SystolicBP', u'DiastolicBP', u'RespiratoryRate', u'Temperature']].copy()\n",
    "transcript_max = tdf.groupby('PatientGuid').max().sort_index()\n",
    "transcript_min = tdf.groupby('PatientGuid').min().sort_index()\n",
    "transcript_std = tdf.groupby('PatientGuid').std().sort_index()\n",
    "transcript_mean = tdf.groupby('PatientGuid').mean().sort_index()"
   ]
  },
  {
   "cell_type": "markdown",
   "metadata": {},
   "source": [
    "Aggregate data by recent activities: generate a table where each patient is matched with his/her 2 most recent visits. Form here, we will be able to determine changes in BMI, BP and Weight which are in most cases signs of diabetes"
   ]
  },
  {
   "cell_type": "code",
   "execution_count": 51,
   "metadata": {
    "collapsed": false
   },
   "outputs": [],
   "source": [
    "tdf = df3[[u'PatientGuid', u'VisitYear', u'Height', u'Weight', u'BMI', u'SystolicBP', u'DiastolicBP', u'RespiratoryRate', u'Temperature']].copy()\n",
    "transcript_last_0 = tdf.sort_values(['VisitYear','PatientGuid']).groupby('PatientGuid').nth([-1]).sort_index()\n",
    "transcript_last_1 = tdf.sort_values(['VisitYear','PatientGuid']).groupby('PatientGuid').nth([-2]).sort_index()\n",
    "transcript_change = (transcript_last_0 - transcript_last_1).abs()\n",
    "transcript_change['VisitYear'] += 1\n",
    "transcript_change = (transcript_change.T / transcript_change.VisitYear).T\n",
    "transcript_change.drop('VisitYear',axis=1,inplace=True)"
   ]
  },
  {
   "cell_type": "code",
   "execution_count": 52,
   "metadata": {
    "collapsed": false
   },
   "outputs": [],
   "source": [
    "#rename columns\n",
    "transcript_max.columns = map(lambda x:x+'_Max',transcript_max.columns)\n",
    "transcript_min.columns = map(lambda x:x+'_Min',transcript_min.columns)\n",
    "transcript_std.columns = map(lambda x:x+'_Std',transcript_std.columns)\n",
    "transcript_mean.columns = map(lambda x:x+'_Mean',transcript_mean.columns)\n",
    "transcript_change.columns = map(lambda x:x+'_Change',transcript_change.columns)\n",
    "#merge dataframes into one\n",
    "transcript_agg = pd.concat([transcript_max,transcript_min,transcript_std,transcript_mean,transcript_change], axis=1)"
   ]
  },
  {
   "cell_type": "code",
   "execution_count": 53,
   "metadata": {
    "collapsed": true
   },
   "outputs": [],
   "source": [
    "transcript_agg.to_csv('agg_data/transcript.csv')\n",
    "physician_specialty.to_csv('agg_data/physician_specialty.csv')"
   ]
  },
  {
   "cell_type": "markdown",
   "metadata": {},
   "source": [
    "## Diagnosis\n",
    "#### Diagnosis - Aggregation\n",
    "\n",
    "We will categorize ICD9Code among 20 categories refering to https://en.wikipedia.org/wiki/List_of_ICD-9_codes. Then we shall use get_dummies to get a binary table.\n",
    "\n",
    "We will also run quick analysis with the purpose to find patients that were diagnozed with one diagnosis multiple times. We will verify if this diagnosis is to acute or chronic"
   ]
  },
  {
   "cell_type": "code",
   "execution_count": 54,
   "metadata": {
    "collapsed": false
   },
   "outputs": [],
   "source": [
    "def categorize_icd9code(code,method = 1):\n",
    "    icd9code = {    \n",
    "        '001-139': 'infectious and parasitic',\n",
    "        '140-239': 'neoplasms',\n",
    "        '240-279': 'endocrine, nutritional and metabolic, immunity disorders',\n",
    "        '280-289': 'diseases of the blood and blood-forming organs',\n",
    "        '290-319': 'mental disorders',\n",
    "        '320-359': 'nervous system',\n",
    "        '360-389': 'sense organs',\n",
    "        '390-459': 'circulatory system',\n",
    "        '460-519': 'respiratory system',\n",
    "        '520-579': 'digestive system',\n",
    "        '580-629': 'genitourinary system',\n",
    "        '630-679': 'complications of pregnancy, childbirth, and the puerperium',\n",
    "        '680-709': 'skin and subcutaneous tissue',\n",
    "        '710-739': 'musculoskeletal system and connective tissue',\n",
    "        '740-759': 'congenital anomalies',\n",
    "        '760-779': 'certain conditions originating in the perinatal period',\n",
    "        '780-799': 'symptoms, signs, and ill-defined conditions',\n",
    "        '800-999': 'injury and poisoning',\n",
    "        'E-V': 'external causes of injury and supplemental classification'\n",
    "    }\n",
    "    if method == 1:\n",
    "        code = code.split('.')[0]\n",
    "        if ('E' in code.upper()) or ('V' in code.upper()): return 'E-V'\n",
    "        elif int(code) < 139: return '001-139'\n",
    "        elif int(code) < 239: return '140-239'\n",
    "        elif int(code) < 279: return '240-279'\n",
    "        elif int(code) < 289: return '280-289'\n",
    "        elif int(code) < 319: return '290-319'\n",
    "        elif int(code) < 359: return '320-359'\n",
    "        elif int(code) < 389: return '360-389'\n",
    "        elif int(code) < 459: return '390-459'\n",
    "        elif int(code) < 519: return '460-519'\n",
    "        elif int(code) < 579: return '520-579'\n",
    "        elif int(code) < 629: return '580-629'\n",
    "        elif int(code) < 679: return '630-679'\n",
    "        elif int(code) < 709: return '680-709'\n",
    "        elif int(code) < 739: return '710-739'\n",
    "        elif int(code) < 759: return '740-759'\n",
    "        elif int(code) < 779: return '760-779'\n",
    "        elif int(code) < 799: return '780-799'\n",
    "        elif int(code) < 899: return '800-899'\n",
    "        else: return 'Unknown'\n",
    "        \n",
    "    if method == 2:\n",
    "        return icd9code[categorize_icd9code(code)]\n",
    "\n",
    "    if method == 3:\n",
    "        return icd9code[code]\n"
   ]
  },
  {
   "cell_type": "code",
   "execution_count": 55,
   "metadata": {
    "collapsed": false
   },
   "outputs": [
    {
     "name": "stdout",
     "output_type": "stream",
     "text": [
      "process time: 0:00:00.591239\n"
     ]
    }
   ],
   "source": [
    "df1 = data['trainingSet']['SyncDiagnosis'].copy()\n",
    "# drop StartYear and StopYear since they either have more than 50% as 0 or NaN\n",
    "df1.drop(['StartYear','StopYear'],axis=1,inplace=True)\n",
    "tic = dt.now()\n",
    "df1['ICD9CodeCategory'] = df1.ICD9Code.apply(lambda x:categorize_icd9code(x,1))\n",
    "print \"process time:\", dt.now() - tic"
   ]
  },
  {
   "cell_type": "code",
   "execution_count": 56,
   "metadata": {
    "collapsed": false
   },
   "outputs": [],
   "source": [
    "diagnosis_agg = df1[['ICD9CodeCategory']]\n",
    "diagnosis_agg.index = df1.PatientGuid\n",
    "diagnosis_agg = pd.get_dummies(diagnosis_agg,prefix='Icd9',prefix_sep='_').reset_index().groupby('PatientGuid').sum()\n",
    "\n",
    "s1 = diagnosis_agg.sum(axis=1)\n",
    "s2 = (diagnosis_agg>0).sum(axis=1)\n",
    "diagnosis_agg['DiagnosisCount'] = s1\n",
    "diagnosis_agg['VisitCount'] = s2\n",
    "diagnosis_agg['DiagnosisFreq'] = s1/s2\n",
    "\n",
    "diagnosis_agg['AcuteCount'] = df1[['PatientGuid','Acute']].groupby('PatientGuid').sum()\n",
    "diagnosis_agg['AcuteFreq'] = df1[['PatientGuid','Acute']].groupby('PatientGuid').sum()/df1[['PatientGuid','Acute']].groupby('PatientGuid').count()"
   ]
  },
  {
   "cell_type": "code",
   "execution_count": 57,
   "metadata": {
    "collapsed": true
   },
   "outputs": [],
   "source": [
    "diagnosis_agg.to_csv('agg_data/diagnosis.csv')"
   ]
  },
  {
   "cell_type": "code",
   "execution_count": null,
   "metadata": {
    "collapsed": true
   },
   "outputs": [],
   "source": []
  }
 ],
 "metadata": {
  "kernelspec": {
   "display_name": "Python 2",
   "language": "python",
   "name": "python2"
  },
  "language_info": {
   "codemirror_mode": {
    "name": "ipython",
    "version": 2
   },
   "file_extension": ".py",
   "mimetype": "text/x-python",
   "name": "python",
   "nbconvert_exporter": "python",
   "pygments_lexer": "ipython2",
   "version": "2.7.10"
  }
 },
 "nbformat": 4,
 "nbformat_minor": 0
}
